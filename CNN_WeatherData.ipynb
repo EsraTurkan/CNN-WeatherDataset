{
  "nbformat": 4,
  "nbformat_minor": 0,
  "metadata": {
    "colab": {
      "name": "CNN_WeatherData.ipynb",
      "provenance": [],
      "collapsed_sections": []
    },
    "kernelspec": {
      "name": "python3",
      "display_name": "Python 3"
    },
    "language_info": {
      "name": "python"
    },
    "accelerator": "GPU"
  },
  "cells": [
    {
      "cell_type": "code",
      "metadata": {
        "id": "TcHd8CNe9UPM"
      },
      "source": [
        "import seaborn as sns\n",
        "from sklearn.preprocessing import LabelBinarizer\n",
        "from mlxtend.plotting import plot_confusion_matrix\n",
        "import os\n",
        "import random\n",
        "import tqdm as tqdm\n",
        "from shutil import copyfile\n",
        "from keras.optimizers import SGD\n",
        "from sklearn.model_selection import StratifiedKFold\n",
        "from sklearn.model_selection import KFold\n",
        "import keras\n",
        "from keras.optimizers import Adam\n",
        "import pandas as pd\n",
        "from sklearn.metrics import classification_report,confusion_matrix\n",
        "import matplotlib.pyplot as plt\n",
        "from matplotlib.image import imread\n",
        "import pathlib\n",
        "import tensorflow as tf\n",
        "from keras.models import Sequential\n",
        "from keras.layers import Conv2D, MaxPooling2D, Dropout, Flatten, Dense, Activation, BatchNormalization\n",
        "import numpy as np\n",
        "import pandas as pd\n",
        "from sklearn.datasets import make_regression\n",
        "from sklearn.linear_model import LinearRegression\n",
        "from sklearn.model_selection import KFold, train_test_split, cross_val_predict, cross_val_score\n",
        "from sklearn import metrics\n",
        "import cv2\n",
        "\n"
      ],
      "execution_count": 68,
      "outputs": []
    },
    {
      "cell_type": "code",
      "metadata": {
        "id": "xnAy5lWVtdk5"
      },
      "source": [
        "def read_dataset(folder):\n",
        "    directory=\"/content/drive/MyDrive/uygulamalar/weather_kaggle/dataset/\"\n",
        "    for i in tqdm.tqdm(os.listdir(directory+folder)):\n",
        "        full_path = os.path.join(directory+folder,i)\n",
        "        try:\n",
        "            img = cv2.imread(full_path,1)\n",
        "            img = cv2.resize(img,(256,256))\n",
        "        except:\n",
        "            continue\n",
        "        images.append(img)\n",
        "        classes.append(folder)\n",
        "    return images,classes\n",
        "\n",
        "images = []\n",
        "classes= [] \n",
        "dataset =[]\n",
        "\n",
        "images,classes= read_dataset(\"foggy\")\n",
        "images,classes= read_dataset(\"sunrise\")\n",
        "images,classes= read_dataset(\"shine\")\n",
        "images,classes= read_dataset(\"rainy\")\n",
        "images,classes= read_dataset(\"cloudy\")"
      ],
      "execution_count": null,
      "outputs": []
    },
    {
      "cell_type": "code",
      "metadata": {
        "id": "_Ey9FM_-ud19"
      },
      "source": [
        "print(classes)"
      ],
      "execution_count": null,
      "outputs": []
    },
    {
      "cell_type": "code",
      "metadata": {
        "id": "YqpqBpY3wbdy"
      },
      "source": [
        "plt.figure(figsize=(10,10))\n",
        "plt.style.use(\"fivethirtyeight\")\n",
        "sns.countplot(classes)\n",
        "plt.show()"
      ],
      "execution_count": null,
      "outputs": []
    },
    {
      "cell_type": "code",
      "metadata": {
        "id": "alDFkP14A7jf"
      },
      "source": [
        "images =  np.array(images)\n",
        "classes= np.array(classes)\n",
        "images.shape,classes.shape\n"
      ],
      "execution_count": null,
      "outputs": []
    },
    {
      "cell_type": "code",
      "metadata": {
        "id": "JpS95cSnvw6c"
      },
      "source": [
        "print(classes)"
      ],
      "execution_count": null,
      "outputs": []
    },
    {
      "cell_type": "code",
      "metadata": {
        "id": "ubj5l8TmKy4-"
      },
      "source": [
        "from sklearn.preprocessing import LabelEncoder\n",
        "le = LabelEncoder()\n",
        "classes = le.fit_transform(classes)\n",
        "lb = LabelBinarizer()\n",
        "classes_binary = lb.fit_transform(classes)\n",
        "classes_binary.shape"
      ],
      "execution_count": null,
      "outputs": []
    },
    {
      "cell_type": "code",
      "metadata": {
        "id": "u7XniFrfkGFd"
      },
      "source": [
        "opt = keras.optimizers.Adam(learning_rate=0.00001)\n",
        "seed = 7\n",
        "np.random.seed(seed)\n",
        "\n",
        "kfold = StratifiedKFold(n_splits=5, shuffle=True, random_state=seed)\n",
        "\n",
        "\n"
      ],
      "execution_count": 76,
      "outputs": []
    },
    {
      "cell_type": "code",
      "metadata": {
        "id": "yGoKSqaqtSRb"
      },
      "source": [
        "confusion_matrix_all=0\n",
        "sum_loss=0\n",
        "sum_acc=0"
      ],
      "execution_count": 78,
      "outputs": []
    },
    {
      "cell_type": "code",
      "metadata": {
        "id": "0TlaWX1epYlO"
      },
      "source": [
        "\n",
        "for train_index, test_index  in kfold.split(images,classes):\n",
        "    img_size =256\n",
        "\n",
        "    images_train, images_test = images[train_index],images[test_index]\n",
        "    classes_train, classes_test = classesBinary[train_index],classesBinary[test_index]\n",
        " \n",
        "\n",
        " \n",
        "    print(\"size : \",len(images_train))\n",
        "    model = tf.keras.models.Sequential([\n",
        "    tf.keras.layers.Conv2D(32, (3,3), activation='relu', input_shape=(256, 256, 3)),\n",
        "    tf.keras.layers.MaxPooling2D(2, 2),\n",
        "    \n",
        "    tf.keras.layers.Conv2D(64, (3,3), activation='relu'),\n",
        "    tf.keras.layers.MaxPooling2D(2,2),\n",
        "    \n",
        "    tf.keras.layers.Conv2D(128, (3,3), activation='relu'),\n",
        "    tf.keras.layers.MaxPooling2D(2,2),\n",
        "    \n",
        "    tf.keras.layers.Conv2D(128, (3,3), activation='relu'),\n",
        "    tf.keras.layers.MaxPooling2D(2,2),\n",
        "    \n",
        "    tf.keras.layers.Flatten(),\n",
        "    \n",
        "    tf.keras.layers.Dense(256, activation='relu'),\n",
        "    \n",
        "    tf.keras.layers.Dense(5, activation='softmax')\n",
        "    ])\n",
        "    model.summary()\n",
        "    model.compile(optimizer=opt ,loss='categorical_crossentropy', metrics =['accuracy'])\n",
        "    history =  model.fit( images_train,classes_train,epochs=15,batch_size=16 ,verbose=2)\n",
        "\n",
        "    loss,accuracy = model.evaluate(images_test,classes_test,verbose=1)#(images[test_index],classesBinary[test_index],verbose=1)\n",
        "    classes_pred = model.predict_classes(images_test,verbose=1)\n",
        "  \n",
        "    confusion_matrix_epoch = confusion_matrix(classes[test_index],classes_pred)\n",
        "    confusion_matrix_all=confusion_matrix_all+confusion_matrix_epoch\n",
        "    sum_acc=sum_acc+accuracy\n",
        "    sum_loss=sum_loss+loss\n"
      ],
      "execution_count": null,
      "outputs": []
    },
    {
      "cell_type": "code",
      "metadata": {
        "id": "I_iOEIbme4mo"
      },
      "source": [
        "\n",
        "plot_confusion_matrix(conf_mat = cm_all,figsize=(8,7), show_normed = True);"
      ],
      "execution_count": null,
      "outputs": []
    },
    {
      "cell_type": "code",
      "metadata": {
        "id": "1Hjc8Rl9yB2F"
      },
      "source": [
        "avrg_acc=sum_acc/5\n",
        "print(avrg_acc)"
      ],
      "execution_count": null,
      "outputs": []
    },
    {
      "cell_type": "code",
      "metadata": {
        "id": "uy88xnK8yJaW"
      },
      "source": [
        "avrg_loss=sum_loss/5\n",
        "print(avrg_loss)"
      ],
      "execution_count": null,
      "outputs": []
    }
  ]
}